{
 "cells": [
  {
   "cell_type": "code",
   "execution_count": null,
   "metadata": {},
   "outputs": [],
   "source": [
    "import os\n",
    "import pandas as pd\n",
    "import tensorflow as tf\n",
    "import time\n",
    "import datetime\n",
    "\n",
    "# путь к отфильтрованному!!! датасету\n",
    "dataset_path = 'B:\\\\DATASET\\\\iot_intrusion_dataset\\\\filtered\\\\'\n",
    "\n",
    "# путь к исполняемому файлу tshark\n",
    "tshark_path = 'A:\\\\Wireshark\\\\tshark'\n",
    "\n",
    "# имена файлов, содержащих обычный трафик\n",
    "dataset_files_norm = [\n",
    "    'benign-dec'\n",
    "]\n",
    "\n",
    "# имена файлов, содержащих трафик с атаками\n",
    "# (рассматривались только атаки synflooding и ackflooding)\n",
    "dataset_files_attack = [\n",
    "    'dos-synflooding-1-dec',\n",
    "    'dos-synflooding-2-dec',\n",
    "    'dos-synflooding-3-dec',\n",
    "    'dos-synflooding-4-dec',\n",
    "    'dos-synflooding-5-dec',\n",
    "    'dos-synflooding-6-dec',\n",
    "    'mirai-ackflooding-1-dec',\n",
    "    'mirai-ackflooding-2-dec',\n",
    "    'mirai-ackflooding-3-dec',\n",
    "    'mirai-ackflooding-4-dec'\n",
    "]\n",
    "\n",
    "dataset_files_norm = [dataset_path + file_name for file_name in dataset_files_norm]\n",
    "dataset_files_attack = [dataset_path + file_name for file_name in dataset_files_attack]"
   ]
  },
  {
   "cell_type": "code",
   "execution_count": null,
   "metadata": {},
   "outputs": [],
   "source": [
    "# pcap -> csv\n",
    "# если нужные csv-файлы уже сгенерировыны, пропустить!\n",
    "\n",
    "# поля, которые будут использоваться для обучения и дальнейшего выявления\n",
    "# атак, нужно подбирать самостоятельно: мой вариант скорее демонстрационный, чем\n",
    "# практически эффективный\n",
    "\n",
    "# список полей (формат полей из Wireshark)\n",
    "fields = ['tcp.srcport', 'tcp.dstport', 'ip.len', 'ip.id']\n",
    "\n",
    "fields_str = ''\n",
    "for field in fields:\n",
    "    fields_str += '-e ' + field + ' '\n",
    "\n",
    "for file_path in dataset_files_norm + dataset_files_attack:\n",
    "    os.system(tshark_path + ' -r {}.pcap -T fields {}-E header=y -E separator=, -E occurrence=f > {}.csv'.format(file_path, fields_str, file_path))\n",
    "\n",
    "for file_path in dataset_files_norm:\n",
    "    df = pd.read_csv(file_path + '.csv')\n",
    "    df['attack'] = '0'\n",
    "    df.to_csv(file_path + '.csv', index=False)\n",
    "\n",
    "for file_path in dataset_files_attack:\n",
    "    df = pd.read_csv(file_path + '.csv')\n",
    "    df['attack'] = '1'\n",
    "    df.to_csv(file_path + '.csv', index=False)"
   ]
  },
  {
   "cell_type": "code",
   "execution_count": null,
   "metadata": {},
   "outputs": [],
   "source": [
    "# получить список всех файлов\n",
    "\n",
    "dataset_files_all = [file_path + '.csv' for file_path in dataset_files_norm + dataset_files_attack]\n",
    "print('Список всех файлов датасета:\\n', dataset_files_all)"
   ]
  },
  {
   "cell_type": "code",
   "execution_count": null,
   "metadata": {},
   "outputs": [],
   "source": [
    "# получить общий датафрейм\n",
    "\n",
    "summary_dataframe = pd.DataFrame()\n",
    "for file_path in dataset_files_all:\n",
    "    temp_dataframe = pd.read_csv(file_path)\n",
    "    summary_dataframe = summary_dataframe.append(temp_dataframe, ignore_index=True)\n",
    "\n",
    "summary_dataframe['ip.id'] = summary_dataframe['ip.id'].apply(int, base=16)\n",
    "print('Общий датафрейм:\\n', summary_dataframe)"
   ]
  },
  {
   "cell_type": "code",
   "execution_count": null,
   "metadata": {},
   "outputs": [],
   "source": [
    "# получить тренировочный датафрейм\n",
    "\n",
    "train_dataframe = summary_dataframe.sample(int(0.7 * summary_dataframe.shape[0]))\n",
    "\n",
    "print('Тренировочный датафрейм:\\n', train_dataframe)\n",
    "print('Размер:\\n', train_dataframe.shape)"
   ]
  },
  {
   "cell_type": "code",
   "execution_count": null,
   "metadata": {},
   "outputs": [],
   "source": [
    "# составить тренировочный датасет\n",
    "\n",
    "train_target = train_dataframe.pop('attack')\n",
    "train_dataset = tf.data.Dataset.from_tensor_slices((train_dataframe.values, train_target.values))\n",
    "print('Пример тренировочного датасета:')\n",
    "for feat, targ in train_dataset.take(5):\n",
    "    print ('Значение: {}, цель: {}'.format(feat, targ))"
   ]
  },
  {
   "cell_type": "code",
   "execution_count": null,
   "metadata": {},
   "outputs": [],
   "source": [
    "train_dataset = train_dataset.shuffle(len(train_dataframe)).batch(1)\n",
    "test_dataset = test_dataset.shuffle(len(test_dataframe))\n",
    "\n",
    "def get_compiled_model():\n",
    "    model = tf.keras.Sequential(\n",
    "    [\n",
    "        tf.keras.layers.Dense(4, activation='relu'),\n",
    "        tf.keras.layers.Dense(160, activation='relu'),\n",
    "        tf.keras.layers.Dense(1, activation='sigmoid')\n",
    "    ])\n",
    "    model.compile(optimizer='adam',\n",
    "                  loss='binary_crossentropy',\n",
    "                  metrics=['accuracy'])\n",
    "    return model\n",
    "\n",
    "print('---ОБУЧЕНИЕ---')\n",
    "timer = time.process_time()\n",
    "model = get_compiled_model()\n",
    "model.fit(train_dataset, epochs=3)\n",
    "timer = time.process_time() - timer\n",
    "print('Время обучения =', timer, ' секунд')"
   ]
  },
  {
   "cell_type": "code",
   "execution_count": null,
   "metadata": {},
   "outputs": [],
   "source": [
    "print('---ТЕСТИРОВАНИЕ---')\n",
    "timer = time.process_time()\n",
    "test_loss, test_accuracy = model.evaluate(test_dataframe, test_target, verbose=1)\n",
    "timer = time.process_time() - timer\n",
    "print('Потери = {}, точность = {}'.format(test_loss, test_accuracy))\n",
    "print('Время тестирования =', timer, ' секунд')"
   ]
  }
 ],
 "metadata": {
  "kernelspec": {
   "display_name": "Python 3",
   "language": "python",
   "name": "python3"
  },
  "language_info": {
   "codemirror_mode": {
    "name": "ipython",
    "version": 3
   },
   "file_extension": ".py",
   "mimetype": "text/x-python",
   "name": "python",
   "nbconvert_exporter": "python",
   "pygments_lexer": "ipython3",
   "version": "3.8.5"
  }
 },
 "nbformat": 4,
 "nbformat_minor": 4
}
